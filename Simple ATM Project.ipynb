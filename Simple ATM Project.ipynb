{
 "cells": [
  {
   "cell_type": "code",
   "execution_count": 5,
   "id": "7975f2b2-f589-4844-9247-f4b1e04b6cff",
   "metadata": {
    "editable": true,
    "slideshow": {
     "slide_type": ""
    },
    "tags": []
   },
   "outputs": [],
   "source": [
    "class ATM:\n",
    "    def __init__(self):\n",
    "        self.adminUsername = 'UZAIR MUSTAFA'\n",
    "        self.adminPin = '3838'\n",
    "        self.isloginAdmin = False\n",
    "        self.accountsInfo = {}\n",
    "        self.balance = 0\n",
    "        self.islogin = False\n",
    "        self.menu()\n",
    "        \n",
    "\n",
    "    def authentication(self):\n",
    "        i=3\n",
    "        \n",
    "        self.accNumber = int(input('enter your account number\\n'))\n",
    "        self.pin = input('enter four digit pin\\n')\n",
    "        flag = False\n",
    "        while(i>=0):\n",
    "            \n",
    "            if self.accNumber in self.accountsInfo.keys() and self.pin ==self.accountsInfo[self.accNumber]['PIN']:\n",
    "                print('Success...!\\n')\n",
    "                flag = True\n",
    "                break\n",
    "            elif self.accNumber in self.accountsInfo.keys() and self.pin !=self.accountsInfo[self.accNumber]['PIN']:\n",
    "                print(f'You have entered wrong pin\\nre-enter the pin\\n{i} try/tries left\\n')\n",
    "                pin = input()\n",
    "                if i ==1 and self.pin !=self.accountsInfo[self.accNumber]['PIN']:\n",
    "                    print('You have entered wrong pin four times\\n...EXITING...')\n",
    "                    self.exit()\n",
    "                    break\n",
    "            elif self.accNumber not in self.accountsInfo.keys():\n",
    "                print(f'You have entered wrong account number\\nre-enter the account numnber\\n{i} try/tries left\\n')\n",
    "                self.accNumber = input()\n",
    "                if i ==1 and self.accNumber not in self.accountsInfo.keys():\n",
    "                    print('You have entered wrong account number four times\\n...EXITING...')\n",
    "                    self.exit()\n",
    "                    break\n",
    "            else:\n",
    "                print(f'Invalid entries\\n{i} try/tries left\\n')\n",
    "                self.accNumber = int(input('Enter the account number\\n'))\n",
    "                self.pin = input('Enter the pin\\n')\n",
    "                if i ==1 and id not in self.accountsInfo.keys():\n",
    "                    print('You have entered wrong information four times\\n...EXITING...')\n",
    "                    self.exit()\n",
    "                    break\n",
    "            i-=1\n",
    "        if flag:\n",
    "            self.islogin = True\n",
    "        return flag\n",
    "\n",
    "\n",
    "    def optSelection(self):\n",
    "        opt = int(input('''\n",
    "        Choose an Option From Following\n",
    "        1.Goto Menu\n",
    "        2.Goto Login\n",
    "        3.Make Deposite\n",
    "        4.Balance Inquiry\n",
    "        5.Withraw Money\n",
    "        6.Change Pin\n",
    "        7.Log Out\n",
    "        or press any other button to Exit\n",
    "        '''))\n",
    "        if opt == 1:\n",
    "            self.menu()\n",
    "        elif opt == 2:\n",
    "            self.login()\n",
    "        elif opt == 3:\n",
    "            self.deposit()\n",
    "        elif opt == 4:\n",
    "            self.balanceInquiry()\n",
    "        elif opt == 5:\n",
    "            self.withdraw()\n",
    "        elif opt == 6:\n",
    "            self.changePin()\n",
    "        elif opt == 7:\n",
    "            self.logout()\n",
    "        else:\n",
    "            self.exit()\n",
    "\n",
    "\n",
    "    def menu(self):\n",
    "        print('...MENU...\\n')\n",
    "        userInput =int(input( '''\n",
    "        choose from following options\n",
    "        0.Log in as admin\n",
    "        1.Create new Account\n",
    "        2.Login To Existing Account\n",
    "        3.Exit\n",
    "        '''))\n",
    "        if userInput ==0:\n",
    "            self.admin()\n",
    "        elif userInput ==1:\n",
    "            self.createAccount()\n",
    "        elif userInput ==2:\n",
    "            if len(self.accountsInfo)==0:\n",
    "                print('No account exists\\nDo you want to create a new account\\npress 1 to create account and 2 to exit the system\\n')\n",
    "                opt = int(input())\n",
    "                if opt ==1:\n",
    "                    self.createAccount()\n",
    "                else:\n",
    "                    self.exit()\n",
    "            else:\n",
    "                self.login()\n",
    "        else:\n",
    "            self.exit()\n",
    "\n",
    "    def admin(self):\n",
    "        print('......ADMIN LOGIN......')\n",
    "        if self.isloginAdmin:\n",
    "            print('You are already logged in as admin\\n')\n",
    "            self.adminOpt()\n",
    "        elif self.islogin:\n",
    "            print('Already one account is logged in\\nLog out first\\n')\n",
    "            self.optSelection()\n",
    "        else:\n",
    "            username = input('Enter the Admin username\\n')\n",
    "            pin = input('Enter the Admin pin\\n')\n",
    "            if username == self.adminUsername and pin == self.adminPin:\n",
    "                self.isloginAdmin = True\n",
    "                print('Admin logged in...\\n')\n",
    "                self.adminOpt()\n",
    "                \n",
    "\n",
    "    def adminOpt(self):\n",
    "        temp = int(input('''\n",
    "                Choose operation you want to perform\n",
    "                1.See registered accounts \n",
    "                2.Remove an account\n",
    "                3.Add an account\n",
    "                4.Log out\n",
    "                '''))\n",
    "        if temp == 1:\n",
    "            if len(self.accountsInfo)==0:\n",
    "                print('No registered accounts to show\\n')\n",
    "\n",
    "            else:\n",
    "                print(f'Following are the details of registered accounts\\n{self.accountsInfo}')\n",
    "            self.adminOpt()\n",
    "        elif temp ==2:\n",
    "            if len(self.accountsInfo)==0:\n",
    "                print('No accounts exist\\n')\n",
    "            else:\n",
    "                accNumber = int(input('Enter the account number of the customer of whom you want to remove account\\n'))\n",
    "                del self.accountsInfo[accNumber]\n",
    "                print('Account removed successfully\\n')\n",
    "            self.adminOpt()\n",
    "        elif temp  == 3:\n",
    "            self.accNumber = int(input('Enter the account number\\n'))\n",
    "            self.username = input('Enter the account holder name\\n')\n",
    "            self.pin = input('enter a four digit pin\\n')\n",
    "            while True:\n",
    "                if len(self.pin)==4:\n",
    "                    #print('Pin created successfully\\n')\n",
    "                    break\n",
    "                else:\n",
    "                    if len(self.pin)>4:\n",
    "                        print('length of pin exceeded\\nre-enter a four digit pin\\n')\n",
    "                        self.pin = input()\n",
    "                    else:\n",
    "                        print('length of pin is less than 4\\nre-enter a four digit pin\\n')\n",
    "                        self.pin = input()\n",
    "            self.accountsInfo[self.accNumber] = {'Name':self.username,'PIN':self.pin,'Balance':0} \n",
    "            print('Congrats! Account Created Sucessfully\\n')\n",
    "            self.adminOpt()\n",
    "            \n",
    "        else:\n",
    "            self.isloginAdmin = False\n",
    "            print('Logged out seccessfully...\\nReturning to menu\\n')\n",
    "            self.menu()\n",
    "        \n",
    "\n",
    "    def createAccount(self):\n",
    "        print('...NEW ACCOUNT...\\n')\n",
    "        self.accNumber = int(input('Enter the account number\\n'))\n",
    "        self.username = input('Enter the account holder name\\n')\n",
    "        self.pin = input('enter a four digit pin\\n')\n",
    "        while True:\n",
    "            if len(self.pin)==4:\n",
    "                #print('Pin created successfully\\n')\n",
    "                break\n",
    "            else:\n",
    "                if len(self.pin)>4:\n",
    "                    print('length of pin exceeded\\nre-enter a four digit pin\\n')\n",
    "                    self.pin = input()\n",
    "                else:\n",
    "                    print('length of pin is less than 4\\nre-enter a four digit pin\\n')\n",
    "                    self.pin = input()\n",
    "        self.accountsInfo[self.accNumber] = {'Name':self.username,'PIN':self.pin,'Balance':0} \n",
    "        print('Congrats! Account Created Sucessfully\\n')\n",
    "        opt = int(input('''\n",
    "        choose option among following\n",
    "        1.Goto Login\n",
    "        2.Goto Menu\\n'''))\n",
    "        while True:\n",
    "            if opt ==1:\n",
    "                self.login()\n",
    "                break\n",
    "            elif opt == 2:    \n",
    "                self.menu()\n",
    "                break\n",
    "            else:\n",
    "                print('Wrong Input\\nSelect from given options\\nre-enter your choice\\n1.Goto Login\\n2.Goto Menu\\n')\n",
    "                opt = int(input())\n",
    "\n",
    "    def login(self):\n",
    "        print('...LOGIN...\\n')\n",
    "        if self.islogin:\n",
    "            print('Already one account is logged in\\nLog out first\\n')\n",
    "            self.optSelection()\n",
    "        else:\n",
    "            flag = self.authentication()\n",
    "            if flag :\n",
    "                print('Logged in...\\n')\n",
    "                self.optSelection()\n",
    "            else:\n",
    "                print('Authentication Failed...\\nReturning to menu\\n')\n",
    "                self.menu()\n",
    "\n",
    "    def changePin(self):\n",
    "        print('...CHANGE PIN...\\n')\n",
    "        print('Enter your account number and old pin\\nEnter the new pin after successful authentication\\n')\n",
    "        flag = self.authentication()\n",
    "        if flag:\n",
    "            pin = input('Enter a new 4 digit pin\\n')\n",
    "            while True:\n",
    "                if len(pin)==4:\n",
    "                    self.accountsInfo[self.accNumber]['PIN'] =pin\n",
    "                    print('Pin changed successfully\\n')\n",
    "                    self.islogin = False\n",
    "                    break\n",
    "                else:\n",
    "                    if len(pin)>4:\n",
    "                        print('length of pin exceeded\\nre-enter a four digit pin\\n')\n",
    "                        pin = input()\n",
    "                    else:\n",
    "                        print('length of pin is less than 4\\nre-enter a four digit pin\\n')\n",
    "                        pin = input()\n",
    "             \n",
    "        self.optSelection()\n",
    "\n",
    "    def balanceInquiry(self):\n",
    "         \n",
    "        print('...BALANCE INQUIRY...\\n')\n",
    "        balance = self.accountsInfo[self.accNumber]['Balance']\n",
    "        if self.islogin:\n",
    "            \n",
    "             print(f'Your current balance is {balance}\\n')\n",
    "             self.optSelection()\n",
    "        else:\n",
    "            flag = self.authentication()\n",
    "            if flag:\n",
    "                print(f'Your current balance is {balance}\\n')\n",
    "                self.optSelection()\n",
    "            else:\n",
    "                self.exit()\n",
    "\n",
    "    def deposit(self):\n",
    "        print('...DEPOSITE SECTION...\\n')\n",
    "        balance = self.accountsInfo[self.accNumber]['Balance']\n",
    "        if self.islogin:\n",
    "            amount = int(input(f'Your current balance is {balance}\\nEnter the amount you want to deposit\\n'))\n",
    "            self.accountsInfo[self.accNumber]['Balance']+=amount\n",
    "            balance = self.accountsInfo[self.accNumber]['Balance']\n",
    "            print(f'Deposite successful\\nNew balance is {balance}\\n')\n",
    "            self.optSelection()\n",
    "        else:\n",
    "            flag = self.authentication()\n",
    "            if flag:\n",
    "                amount = int(input(f'Your current balance is {balance}\\nEnter the amount you want to deposit\\n'))\n",
    "                self.accountsInfo[self.accNumber]['Balance']+=amount\n",
    "                balance = self.accountsInfo[self.accNumber]['Balance']\n",
    "                print(f'Deposite successful\\nNew balance is {balance}\\n')\n",
    "                self.optSelection()\n",
    "            else:\n",
    "                print('Authentication Failed...\\nReturning to menu\\n')\n",
    "                self.menu()\n",
    "\n",
    "    def withdraw(self):\n",
    "        print('...WITHDRAW MONEY...\\n')\n",
    "        balance = self.accountsInfo[self.accNumber]['Balance']\n",
    "        if self.islogin:\n",
    "            amount = int(input('Enter the amount you want to withdraw\\n'))\n",
    "            while True:\n",
    "                \n",
    "                if amount<self.accountsInfo[self.accNumber]['Balance']:\n",
    "                    self.accountsInfo[self.accNumber]['Balance']-=amount\n",
    "                    balance = self.accountsInfo[self.accNumber]['Balance']\n",
    "                    print(f'Withdrawl successful...\\nAmount withdrawn:\\n{amount}\\nRemaining Balance:\\n{balance}\\n')\n",
    "                    break\n",
    "                else:\n",
    "                    print(f'Insufficient Balance\\nYour current balance is {balance}\\nYour amount must be less than this balance\\nEnter the amount again or press 0 to exit system\\n')\n",
    "                    amount = int(input())\n",
    "                    if amount == 0:\n",
    "                        self.exit()\n",
    "                        break\n",
    "                    else:\n",
    "                        pass\n",
    "            self.optSelection()\n",
    "        else:\n",
    "            flag = self.authentication()\n",
    "            if flag:\n",
    "                amount = int(input('Enter the amount you want to withdraw\\n'))\n",
    "                while True:\n",
    "                    \n",
    "                    if amount<self.accountsInfo[self.accNumber]['Balance']:\n",
    "                        self.accountsInfo[self.accNumber]['Balance']-=amount\n",
    "                        balance = self.accountsInfo[self.accNumber]['Balance']\n",
    "                        print(f'Withdrawl successful...\\nAmount withdrawn:\\n{amount}\\nRemaining Balance:\\n{balance}\\n')\n",
    "                        break\n",
    "                    else:\n",
    "                        print(f'Insufficient Balance\\nYour current balance is {balance}\\nYour amount must be less than this balance\\nEnter the amount again or press 0 to exit system\\n')\n",
    "                        amount = int(input())\n",
    "                        if amount == 0:\n",
    "                            self.exit()\n",
    "                            break\n",
    "                        else:\n",
    "                            pass\n",
    "            \n",
    "            else:\n",
    "                print('Authentication Failed...\\nReturning to menu\\n')\n",
    "                self.menu()\n",
    "\n",
    "            self.optSelection()\n",
    "\n",
    "    def logout(self):\n",
    "        if self.islogin:\n",
    "            self.islogin = False\n",
    "            print('Logged Out successfullly...\\n')\n",
    "        else:\n",
    "            print('No account is logged in\\n')\n",
    "            self.menu()\n",
    "        self.optSelection()\n",
    "\n",
    "    \n",
    "    def exit(self):\n",
    "        print('Program Exited')\n",
    "                \n"
   ]
  },
  {
   "cell_type": "code",
   "execution_count": 6,
   "id": "d0261ba5-386b-4949-9bd0-a902e51d1902",
   "metadata": {},
   "outputs": [
    {
     "name": "stdout",
     "output_type": "stream",
     "text": [
      "...MENU...\n",
      "\n"
     ]
    },
    {
     "name": "stdin",
     "output_type": "stream",
     "text": [
      "\n",
      "        choose from following options\n",
      "        0.Log in as admin\n",
      "        1.Create new Account\n",
      "        2.Login To Existing Account\n",
      "        3.Exit\n",
      "         1\n"
     ]
    },
    {
     "name": "stdout",
     "output_type": "stream",
     "text": [
      "...NEW ACCOUNT...\n",
      "\n"
     ]
    },
    {
     "name": "stdin",
     "output_type": "stream",
     "text": [
      "Enter the account number\n",
      " 1234\n",
      "Enter the account holder name\n",
      " uzair\n",
      "enter a four digit pin\n",
      " 0099\n"
     ]
    },
    {
     "name": "stdout",
     "output_type": "stream",
     "text": [
      "Congrats! Account Created Sucessfully\n",
      "\n"
     ]
    },
    {
     "name": "stdin",
     "output_type": "stream",
     "text": [
      "\n",
      "        choose option among following\n",
      "        1.Goto Login\n",
      "        2.Goto Menu\n",
      " 1\n"
     ]
    },
    {
     "name": "stdout",
     "output_type": "stream",
     "text": [
      "...LOGIN...\n",
      "\n"
     ]
    },
    {
     "name": "stdin",
     "output_type": "stream",
     "text": [
      "enter your account number\n",
      " 1234\n",
      "enter four digit pin\n",
      " 0099\n"
     ]
    },
    {
     "name": "stdout",
     "output_type": "stream",
     "text": [
      "Success...!\n",
      "\n",
      "Logged in...\n",
      "\n"
     ]
    },
    {
     "name": "stdin",
     "output_type": "stream",
     "text": [
      "\n",
      "        Choose an Option From Following\n",
      "        1.Goto Menu\n",
      "        2.Goto Login\n",
      "        3.Make Deposite\n",
      "        4.Balance Inquiry\n",
      "        5.Withraw Money\n",
      "        6.Change Pin\n",
      "        7.Log Out\n",
      "        or press any other button to Exit\n",
      "         6\n"
     ]
    },
    {
     "name": "stdout",
     "output_type": "stream",
     "text": [
      "...CHANGE PIN...\n",
      "\n",
      "Enter your old username and pin\n",
      "Enter the new pin after successful authentication\n",
      "\n"
     ]
    },
    {
     "name": "stdin",
     "output_type": "stream",
     "text": [
      "enter your account number\n",
      " 1234\n",
      "enter four digit pin\n",
      " 0099\n"
     ]
    },
    {
     "name": "stdout",
     "output_type": "stream",
     "text": [
      "Success...!\n",
      "\n"
     ]
    },
    {
     "name": "stdin",
     "output_type": "stream",
     "text": [
      "Enter a new 4 digit pin\n",
      " 9900\n"
     ]
    },
    {
     "name": "stdout",
     "output_type": "stream",
     "text": [
      "Pin changed successfully\n",
      "\n"
     ]
    },
    {
     "name": "stdin",
     "output_type": "stream",
     "text": [
      "\n",
      "        Choose an Option From Following\n",
      "        1.Goto Menu\n",
      "        2.Goto Login\n",
      "        3.Make Deposite\n",
      "        4.Balance Inquiry\n",
      "        5.Withraw Money\n",
      "        6.Change Pin\n",
      "        7.Log Out\n",
      "        or press any other button to Exit\n",
      "         3\n"
     ]
    },
    {
     "name": "stdout",
     "output_type": "stream",
     "text": [
      "...DEPOSITE SECTION...\n",
      "\n"
     ]
    },
    {
     "name": "stdin",
     "output_type": "stream",
     "text": [
      "enter your account number\n",
      " 1234\n",
      "enter four digit pin\n",
      " 9900\n"
     ]
    },
    {
     "name": "stdout",
     "output_type": "stream",
     "text": [
      "Success...!\n",
      "\n"
     ]
    },
    {
     "name": "stdin",
     "output_type": "stream",
     "text": [
      "Your current balance is 0\n",
      "Enter the amount you want to deposit\n",
      " 1000\n"
     ]
    },
    {
     "name": "stdout",
     "output_type": "stream",
     "text": [
      "Deposite successful\n",
      "New balance is 1000\n",
      "\n"
     ]
    },
    {
     "name": "stdin",
     "output_type": "stream",
     "text": [
      "\n",
      "        Choose an Option From Following\n",
      "        1.Goto Menu\n",
      "        2.Goto Login\n",
      "        3.Make Deposite\n",
      "        4.Balance Inquiry\n",
      "        5.Withraw Money\n",
      "        6.Change Pin\n",
      "        7.Log Out\n",
      "        or press any other button to Exit\n",
      "         4\n"
     ]
    },
    {
     "name": "stdout",
     "output_type": "stream",
     "text": [
      "...BALANCE INQUIRY...\n",
      "\n",
      "Your current balance is 1000\n",
      "\n"
     ]
    },
    {
     "name": "stdin",
     "output_type": "stream",
     "text": [
      "\n",
      "        Choose an Option From Following\n",
      "        1.Goto Menu\n",
      "        2.Goto Login\n",
      "        3.Make Deposite\n",
      "        4.Balance Inquiry\n",
      "        5.Withraw Money\n",
      "        6.Change Pin\n",
      "        7.Log Out\n",
      "        or press any other button to Exit\n",
      "         5\n"
     ]
    },
    {
     "name": "stdout",
     "output_type": "stream",
     "text": [
      "...WITHDRAW MONEY...\n",
      "\n"
     ]
    },
    {
     "name": "stdin",
     "output_type": "stream",
     "text": [
      "Enter the amount you want to withdraw\n",
      " 160\n"
     ]
    },
    {
     "name": "stdout",
     "output_type": "stream",
     "text": [
      "Withdrawl successful...\n",
      "Amount withdrawn:\n",
      "160\n",
      "Remaining Balance:\n",
      "840\n",
      "\n"
     ]
    },
    {
     "name": "stdin",
     "output_type": "stream",
     "text": [
      "\n",
      "        Choose an Option From Following\n",
      "        1.Goto Menu\n",
      "        2.Goto Login\n",
      "        3.Make Deposite\n",
      "        4.Balance Inquiry\n",
      "        5.Withraw Money\n",
      "        6.Change Pin\n",
      "        7.Log Out\n",
      "        or press any other button to Exit\n",
      "         7\n"
     ]
    },
    {
     "name": "stdout",
     "output_type": "stream",
     "text": [
      "Logged Out successfullly...\n",
      "\n"
     ]
    },
    {
     "name": "stdin",
     "output_type": "stream",
     "text": [
      "\n",
      "        Choose an Option From Following\n",
      "        1.Goto Menu\n",
      "        2.Goto Login\n",
      "        3.Make Deposite\n",
      "        4.Balance Inquiry\n",
      "        5.Withraw Money\n",
      "        6.Change Pin\n",
      "        7.Log Out\n",
      "        or press any other button to Exit\n",
      "         1\n"
     ]
    },
    {
     "name": "stdout",
     "output_type": "stream",
     "text": [
      "...MENU...\n",
      "\n"
     ]
    },
    {
     "name": "stdin",
     "output_type": "stream",
     "text": [
      "\n",
      "        choose from following options\n",
      "        0.Log in as admin\n",
      "        1.Create new Account\n",
      "        2.Login To Existing Account\n",
      "        3.Exit\n",
      "         0\n"
     ]
    },
    {
     "name": "stdout",
     "output_type": "stream",
     "text": [
      "......ADMIN LOGIN......\n"
     ]
    },
    {
     "name": "stdin",
     "output_type": "stream",
     "text": [
      "Enter the Admin username\n",
      " UZAIR MUSTAFA\n",
      "Enter the Admin pin\n",
      " 3838\n"
     ]
    },
    {
     "name": "stdout",
     "output_type": "stream",
     "text": [
      "Admin logged in...\n",
      "\n"
     ]
    },
    {
     "name": "stdin",
     "output_type": "stream",
     "text": [
      "\n",
      "                Choose operation you want to perform\n",
      "                1.See registered accounts \n",
      "                2.Remove an account\n",
      "                3.Add an account\n",
      "                4.Log out\n",
      "                 1\n"
     ]
    },
    {
     "name": "stdout",
     "output_type": "stream",
     "text": [
      "Following are the details of registered accounts\n",
      "{1234: {'Name': 'uzair', 'PIN': '9900', 'Balance': 840}}\n"
     ]
    },
    {
     "name": "stdin",
     "output_type": "stream",
     "text": [
      "\n",
      "                Choose operation you want to perform\n",
      "                1.See registered accounts \n",
      "                2.Remove an account\n",
      "                3.Add an account\n",
      "                4.Log out\n",
      "                 4\n"
     ]
    },
    {
     "name": "stdout",
     "output_type": "stream",
     "text": [
      "Logged out seccessfully...\n",
      "Returning to menu\n",
      "\n",
      "...MENU...\n",
      "\n"
     ]
    },
    {
     "name": "stdin",
     "output_type": "stream",
     "text": [
      "\n",
      "        choose from following options\n",
      "        0.Log in as admin\n",
      "        1.Create new Account\n",
      "        2.Login To Existing Account\n",
      "        3.Exit\n",
      "         3\n"
     ]
    },
    {
     "name": "stdout",
     "output_type": "stream",
     "text": [
      "Program Exited\n"
     ]
    }
   ],
   "source": [
    "atm = ATM()"
   ]
  },
  {
   "cell_type": "code",
   "execution_count": null,
   "id": "62cbc2d1-e845-405c-8cb7-83cb2a290333",
   "metadata": {},
   "outputs": [],
   "source": []
  },
  {
   "cell_type": "code",
   "execution_count": 10,
   "id": "ed152525-4b0c-4848-bb22-99f0f357f8a0",
   "metadata": {},
   "outputs": [],
   "source": [
    "d = {1:{'Name':'Uzair','PIN':1122,'Balance':1000}}"
   ]
  },
  {
   "cell_type": "code",
   "execution_count": 12,
   "id": "f7d1e3ba-b62d-42ec-affd-5aeceff782ef",
   "metadata": {},
   "outputs": [
    {
     "name": "stdout",
     "output_type": "stream",
     "text": [
      "you balance is 1000\n"
     ]
    }
   ],
   "source": [
    "balance = d[1]['Balance']\n",
    "print(f'you balance is {balance}')"
   ]
  },
  {
   "cell_type": "code",
   "execution_count": null,
   "id": "5ecc842c-0bf0-4f76-9ae8-72493c2e5a68",
   "metadata": {},
   "outputs": [],
   "source": []
  }
 ],
 "metadata": {
  "kernelspec": {
   "display_name": "Python 3 (ipykernel)",
   "language": "python",
   "name": "python3"
  },
  "language_info": {
   "codemirror_mode": {
    "name": "ipython",
    "version": 3
   },
   "file_extension": ".py",
   "mimetype": "text/x-python",
   "name": "python",
   "nbconvert_exporter": "python",
   "pygments_lexer": "ipython3",
   "version": "3.11.7"
  },
  "widgets": {
   "application/vnd.jupyter.widget-state+json": {
    "state": {},
    "version_major": 2,
    "version_minor": 0
   }
  }
 },
 "nbformat": 4,
 "nbformat_minor": 5
}
